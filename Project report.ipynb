{
 "metadata": {
  "language_info": {
   "codemirror_mode": {
    "name": "ipython",
    "version": 3
   },
   "file_extension": ".py",
   "mimetype": "text/x-python",
   "name": "python",
   "nbconvert_exporter": "python",
   "pygments_lexer": "ipython3",
   "version": 3
  },
  "orig_nbformat": 2
 },
 "nbformat": 4,
 "nbformat_minor": 2,
 "cells": [
  {
   "source": [
    "# Predicting the optimal location to set up a MMA gym in Santiago de Chile"
   ],
   "cell_type": "markdown",
   "metadata": {}
  },
  {
   "source": [
    "## 1. Introduction"
   ],
   "cell_type": "markdown",
   "metadata": {}
  },
  {
   "source": [
    "### 1.1. Background"
   ],
   "cell_type": "markdown",
   "metadata": {}
  },
  {
   "source": [
    "Mixed martial arts, commonly known as MMA, is a term for the combat sport in which two competitors attempt to achieve dominance over one another by utilizing three general tactics: striking, finishing holds, and control. The rules allow the combatants to use a variety of martial arts, including punches, kicks, joint-locks, chokes, takedowns and throws, all of which incorporate techniques and theories from several sportive martial arts such as: Amateur Wrestling, Submission Wrestling (usually Jiu-Jitsu), Kickboxing (usually Muay Thai), among others.\n",
    "\n",
    "The sport has swept across the globe like a tidal wave in less than a generation, and today it is the world’s third most popular sport, behind soccer and basketball. There are 451 million people interested in MMA, according to Nielsen Sports DNA, (soccer has 901 million fans) and nearly 85% of the audience is outside the U.S., with one of its major audiences around the world in the neighbor country of Brazil."
   ],
   "cell_type": "markdown",
   "metadata": {}
  },
  {
   "source": [
    "### 1.2. Interest/Problem"
   ],
   "cell_type": "markdown",
   "metadata": {}
  },
  {
   "source": [
    "Any businessman with an interest for sports, and with an eye for possible new trends in the market, would be highly interested in evaluating the scenario for setting up a new MMA gym in the populated city of Santiago de Chile. Though, to make such feat attainable, he would have to solve one of its biggest problems, and most likely, success defining factor: location, location, location. Therefore, a model backed by data which could shed some light into this problem would be particularly helpful for such an audience."
   ],
   "cell_type": "markdown",
   "metadata": {}
  },
  {
   "source": [
    "## 2. Data"
   ],
   "cell_type": "markdown",
   "metadata": {}
  },
  {
   "source": [
    "The data to be used to solve the problem at hand will be mostly from two categories: demographics of Santiago de Chile, and location and category of venues around the city. For the former, I will work with data collected by the government in the 2017 census, where they got all kind of demographic features about the population, however I will be working mainly with its age and gender data for each one of the boroughs in the city of Santiago. This data can be downloaded publicly from the following web page: http://resultados.censo2017.cl/. Now for the latter, I'll get the specifics about the different venues in each borough by leveraging the Foursquare API, and by looking at the relevant venues. (Sports, boxing, martial arts, etc.) To complement this datasets, and to further complete the analysis, I will scrape a wikipedia page to get more information about the different boroughs in the city, so I can link the demographics with the venues properly. The web page to be scraped is the following: https://es.wikipedia.org/wiki/Anexo:Comunas_de_Chile."
   ],
   "cell_type": "markdown",
   "metadata": {}
  }
 ]
}